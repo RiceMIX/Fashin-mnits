{
  "nbformat": 4,
  "nbformat_minor": 0,
  "metadata": {
    "colab": {
      "provenance": [],
      "authorship_tag": "ABX9TyP2uL4Jw+bZAssCTMlWPawS",
      "include_colab_link": true
    },
    "kernelspec": {
      "name": "python3",
      "display_name": "Python 3"
    },
    "language_info": {
      "name": "python"
    }
  },
  "cells": [
    {
      "cell_type": "markdown",
      "metadata": {
        "id": "view-in-github",
        "colab_type": "text"
      },
      "source": [
        "<a href=\"https://colab.research.google.com/github/RiceMIX/Fashin-mnits/blob/main/9_2.ipynb\" target=\"_parent\"><img src=\"https://colab.research.google.com/assets/colab-badge.svg\" alt=\"Open In Colab\"/></a>"
      ]
    },
    {
      "cell_type": "code",
      "execution_count": null,
      "metadata": {
        "id": "Ld5p8ynAg25B"
      },
      "outputs": [],
      "source": [
        "from tensorflow.keras.models import load_model\n",
        "from  google.colab import files\n",
        "from IPython.display import Image\n",
        "from tensorflow.keras.preprocessing import image\n",
        "import numpy as np"
      ]
    },
    {
      "cell_type": "code",
      "source": [
        "classes = ['футболка','брюки', 'свитер','платє','palto', 'tufli', 'rubashka', 'krosovki', 'sumka', 'botinki']"
      ],
      "metadata": {
        "id": "zimkbq2bhIrW"
      },
      "execution_count": null,
      "outputs": []
    },
    {
      "cell_type": "code",
      "source": [],
      "metadata": {
        "id": "q2jzx-kwhLPx"
      },
      "execution_count": null,
      "outputs": []
    }
  ]
}
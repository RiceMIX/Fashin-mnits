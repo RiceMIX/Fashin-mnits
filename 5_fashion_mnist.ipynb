{
  "nbformat": 4,
  "nbformat_minor": 0,
  "metadata": {
    "colab": {
      "provenance": [],
      "authorship_tag": "ABX9TyP761Ty7cGtcBldBKFeOjYa",
      "include_colab_link": true
    },
    "kernelspec": {
      "name": "python3",
      "display_name": "Python 3"
    },
    "language_info": {
      "name": "python"
    }
  },
  "cells": [
    {
      "cell_type": "markdown",
      "metadata": {
        "id": "view-in-github",
        "colab_type": "text"
      },
      "source": [
        "<a href=\"https://colab.research.google.com/github/RiceMIX/Fashin-mnits/blob/main/5_fashion_mnist.ipynb\" target=\"_parent\"><img src=\"https://colab.research.google.com/assets/colab-badge.svg\" alt=\"Open In Colab\"/></a>"
      ]
    },
    {
      "cell_type": "code",
      "execution_count": null,
      "metadata": {
        "id": "EINi1fWODbMZ"
      },
      "outputs": [],
      "source": [
        "import tensorflow as tf\n",
        "from tensorflow.keras.datasets import fashion_mnist\n",
        "from tensorflow.keras.models import Sequential\n",
        "from tensorflow.keras.layers import Dense\n",
        "from tensorflow.keras.utils import to_categorical\n",
        "import numpy as np"
      ]
    },
    {
      "cell_type": "code",
      "source": [
        "(x_train, y_train),(x_test, y_test) = fashion_mnist.load_data()"
      ],
      "metadata": {
        "id": "NEFgvwFIEilJ",
        "colab": {
          "base_uri": "https://localhost:8080/"
        },
        "outputId": "f59d7e9c-cc5f-43d0-958a-20daa4a892d9"
      },
      "execution_count": null,
      "outputs": [
        {
          "output_type": "stream",
          "name": "stdout",
          "text": [
            "Downloading data from https://storage.googleapis.com/tensorflow/tf-keras-datasets/train-labels-idx1-ubyte.gz\n",
            "29515/29515 [==============================] - 0s 0us/step\n",
            "Downloading data from https://storage.googleapis.com/tensorflow/tf-keras-datasets/train-images-idx3-ubyte.gz\n",
            "26421880/26421880 [==============================] - 2s 0us/step\n",
            "Downloading data from https://storage.googleapis.com/tensorflow/tf-keras-datasets/t10k-labels-idx1-ubyte.gz\n",
            "5148/5148 [==============================] - 0s 0us/step\n",
            "Downloading data from https://storage.googleapis.com/tensorflow/tf-keras-datasets/t10k-images-idx3-ubyte.gz\n",
            "4422102/4422102 [==============================] - 0s 0us/step\n"
          ]
        }
      ]
    },
    {
      "cell_type": "code",
      "source": [
        "x_train = x_train.reshape(60000, 784) #  60000 фоток, 784 пікселя в кожному\n",
        "x_train = x_train/255"
      ],
      "metadata": {
        "id": "vxpwfcsMEiha"
      },
      "execution_count": null,
      "outputs": []
    },
    {
      "cell_type": "code",
      "source": [
        "y_train = to_categorical(y_train,10)"
      ],
      "metadata": {
        "id": "TjuxtFhBEiZ3"
      },
      "execution_count": null,
      "outputs": []
    },
    {
      "cell_type": "code",
      "source": [
        "model = Sequential([\n",
        "    Dense(800, input_dim=784, activation=\"relu\"),\n",
        "    Dense(10, activation=\"softmax\")\n",
        "\n",
        "])"
      ],
      "metadata": {
        "id": "QEvJoGmuEiT-"
      },
      "execution_count": null,
      "outputs": []
    },
    {
      "cell_type": "code",
      "source": [
        "# model.add(Dense(800, input_dim=784, activation=\"relu\"))\n",
        "# model.add(Dense(10, activation=\"softmax\"))"
      ],
      "metadata": {
        "id": "Z1M62xRpEiPx"
      },
      "execution_count": null,
      "outputs": []
    },
    {
      "cell_type": "code",
      "source": [
        "opt = tf.optimizers.Adam(learning_rate=0.001)"
      ],
      "metadata": {
        "id": "HQuNhZ9BGSXz"
      },
      "execution_count": null,
      "outputs": []
    },
    {
      "cell_type": "code",
      "source": [
        "model.compile(loss=\"categorical_crossentropy\",\n",
        "              optimizer='adam',\n",
        "              metrics=[\"accuracy\"])"
      ],
      "metadata": {
        "id": "GtdghLRhEiLO"
      },
      "execution_count": null,
      "outputs": []
    },
    {
      "cell_type": "code",
      "source": [
        "print(model.summary())"
      ],
      "metadata": {
        "colab": {
          "base_uri": "https://localhost:8080/"
        },
        "id": "txSrJ9EDEF79",
        "outputId": "4e985416-d223-48dd-94c4-951b97279efa"
      },
      "execution_count": null,
      "outputs": [
        {
          "output_type": "stream",
          "name": "stdout",
          "text": [
            "Model: \"sequential\"\n",
            "_________________________________________________________________\n",
            " Layer (type)                Output Shape              Param #   \n",
            "=================================================================\n",
            " dense (Dense)               (None, 800)               628000    \n",
            "                                                                 \n",
            " dense_1 (Dense)             (None, 10)                8010      \n",
            "                                                                 \n",
            "=================================================================\n",
            "Total params: 636,010\n",
            "Trainable params: 636,010\n",
            "Non-trainable params: 0\n",
            "_________________________________________________________________\n",
            "None\n"
          ]
        }
      ]
    },
    {
      "cell_type": "code",
      "source": [
        "epochs=100\n",
        "batch_size=200"
      ],
      "metadata": {
        "id": "GF7XU1bVGph5"
      },
      "execution_count": null,
      "outputs": []
    },
    {
      "cell_type": "code",
      "source": [
        "model.fit(x_train,y_train, batch_size, epochs)"
      ],
      "metadata": {
        "colab": {
          "base_uri": "https://localhost:8080/"
        },
        "id": "NoA8_SlyHTWH",
        "outputId": "512d2ac0-546c-422f-9c0e-6f157fd38fb0"
      },
      "execution_count": null,
      "outputs": [
        {
          "output_type": "stream",
          "name": "stdout",
          "text": [
            "Epoch 1/100\n",
            "300/300 [==============================] - 5s 16ms/step - loss: 0.5198 - accuracy: 0.8180\n",
            "Epoch 2/100\n",
            "300/300 [==============================] - 5s 17ms/step - loss: 0.3712 - accuracy: 0.8684\n",
            "Epoch 3/100\n",
            "300/300 [==============================] - 5s 16ms/step - loss: 0.3347 - accuracy: 0.8777\n",
            "Epoch 4/100\n",
            "300/300 [==============================] - 5s 16ms/step - loss: 0.3072 - accuracy: 0.8877\n",
            "Epoch 5/100\n",
            "300/300 [==============================] - 5s 16ms/step - loss: 0.2848 - accuracy: 0.8957\n",
            "Epoch 6/100\n",
            "300/300 [==============================] - 5s 15ms/step - loss: 0.2695 - accuracy: 0.9005\n",
            "Epoch 7/100\n",
            "300/300 [==============================] - 5s 16ms/step - loss: 0.2605 - accuracy: 0.9041\n",
            "Epoch 8/100\n",
            "300/300 [==============================] - 5s 15ms/step - loss: 0.2455 - accuracy: 0.9089\n",
            "Epoch 9/100\n",
            "300/300 [==============================] - 5s 16ms/step - loss: 0.2348 - accuracy: 0.9127\n",
            "Epoch 10/100\n",
            "300/300 [==============================] - 5s 16ms/step - loss: 0.2277 - accuracy: 0.9158\n",
            "Epoch 11/100\n",
            "300/300 [==============================] - 7s 24ms/step - loss: 0.2161 - accuracy: 0.9201\n",
            "Epoch 12/100\n",
            "300/300 [==============================] - 5s 16ms/step - loss: 0.2088 - accuracy: 0.9225\n",
            "Epoch 13/100\n",
            "300/300 [==============================] - 5s 15ms/step - loss: 0.2005 - accuracy: 0.9256\n",
            "Epoch 14/100\n",
            "300/300 [==============================] - 5s 15ms/step - loss: 0.1913 - accuracy: 0.9285\n",
            "Epoch 15/100\n",
            "300/300 [==============================] - 5s 16ms/step - loss: 0.1839 - accuracy: 0.9308\n",
            "Epoch 16/100\n",
            "300/300 [==============================] - 5s 16ms/step - loss: 0.1806 - accuracy: 0.9329\n",
            "Epoch 17/100\n",
            "300/300 [==============================] - 5s 15ms/step - loss: 0.1704 - accuracy: 0.9377\n",
            "Epoch 18/100\n",
            "300/300 [==============================] - 5s 16ms/step - loss: 0.1671 - accuracy: 0.9370\n",
            "Epoch 19/100\n",
            "300/300 [==============================] - 5s 16ms/step - loss: 0.1626 - accuracy: 0.9391\n",
            "Epoch 20/100\n",
            "300/300 [==============================] - 5s 16ms/step - loss: 0.1567 - accuracy: 0.9416\n",
            "Epoch 21/100\n",
            "300/300 [==============================] - 5s 16ms/step - loss: 0.1517 - accuracy: 0.9442\n",
            "Epoch 22/100\n",
            "300/300 [==============================] - 6s 20ms/step - loss: 0.1459 - accuracy: 0.9469\n",
            "Epoch 23/100\n",
            "300/300 [==============================] - 5s 16ms/step - loss: 0.1408 - accuracy: 0.9482\n",
            "Epoch 24/100\n",
            "300/300 [==============================] - 5s 16ms/step - loss: 0.1372 - accuracy: 0.9485\n",
            "Epoch 25/100\n",
            "300/300 [==============================] - 5s 16ms/step - loss: 0.1323 - accuracy: 0.9510\n",
            "Epoch 26/100\n",
            "300/300 [==============================] - 5s 15ms/step - loss: 0.1273 - accuracy: 0.9531\n",
            "Epoch 27/100\n",
            "300/300 [==============================] - 5s 15ms/step - loss: 0.1211 - accuracy: 0.9555\n",
            "Epoch 28/100\n",
            "300/300 [==============================] - 5s 15ms/step - loss: 0.1199 - accuracy: 0.9554\n",
            "Epoch 29/100\n",
            "300/300 [==============================] - 5s 16ms/step - loss: 0.1164 - accuracy: 0.9575\n",
            "Epoch 30/100\n",
            "300/300 [==============================] - 5s 16ms/step - loss: 0.1102 - accuracy: 0.9595\n",
            "Epoch 31/100\n",
            "300/300 [==============================] - 5s 16ms/step - loss: 0.1100 - accuracy: 0.9590\n",
            "Epoch 32/100\n",
            "300/300 [==============================] - 5s 15ms/step - loss: 0.1065 - accuracy: 0.9613\n",
            "Epoch 33/100\n",
            "300/300 [==============================] - 5s 16ms/step - loss: 0.1022 - accuracy: 0.9625\n",
            "Epoch 34/100\n",
            "300/300 [==============================] - 6s 20ms/step - loss: 0.1005 - accuracy: 0.9631\n",
            "Epoch 35/100\n",
            "300/300 [==============================] - 5s 16ms/step - loss: 0.0993 - accuracy: 0.9632\n",
            "Epoch 36/100\n",
            "300/300 [==============================] - 5s 16ms/step - loss: 0.0940 - accuracy: 0.9650\n",
            "Epoch 37/100\n",
            "300/300 [==============================] - 5s 16ms/step - loss: 0.0911 - accuracy: 0.9665\n",
            "Epoch 38/100\n",
            "300/300 [==============================] - 5s 16ms/step - loss: 0.0863 - accuracy: 0.9683\n",
            "Epoch 39/100\n",
            "300/300 [==============================] - 5s 15ms/step - loss: 0.0861 - accuracy: 0.9690\n",
            "Epoch 40/100\n",
            "300/300 [==============================] - 5s 16ms/step - loss: 0.0826 - accuracy: 0.9698\n",
            "Epoch 41/100\n",
            "300/300 [==============================] - 5s 15ms/step - loss: 0.0828 - accuracy: 0.9698\n",
            "Epoch 42/100\n",
            "300/300 [==============================] - 5s 15ms/step - loss: 0.0778 - accuracy: 0.9715\n",
            "Epoch 43/100\n",
            "300/300 [==============================] - 5s 15ms/step - loss: 0.0732 - accuracy: 0.9738\n",
            "Epoch 44/100\n",
            "300/300 [==============================] - 5s 15ms/step - loss: 0.0725 - accuracy: 0.9734\n",
            "Epoch 45/100\n",
            "300/300 [==============================] - 6s 20ms/step - loss: 0.0772 - accuracy: 0.9718\n",
            "Epoch 46/100\n",
            "300/300 [==============================] - 5s 16ms/step - loss: 0.0715 - accuracy: 0.9737\n",
            "Epoch 47/100\n",
            "300/300 [==============================] - 5s 16ms/step - loss: 0.0680 - accuracy: 0.9749\n",
            "Epoch 48/100\n",
            "300/300 [==============================] - 5s 16ms/step - loss: 0.0650 - accuracy: 0.9762\n",
            "Epoch 49/100\n",
            "300/300 [==============================] - 5s 15ms/step - loss: 0.0625 - accuracy: 0.9767\n",
            "Epoch 50/100\n",
            "300/300 [==============================] - 5s 17ms/step - loss: 0.0614 - accuracy: 0.9770\n",
            "Epoch 51/100\n",
            "300/300 [==============================] - 5s 16ms/step - loss: 0.0648 - accuracy: 0.9763\n",
            "Epoch 52/100\n",
            "300/300 [==============================] - 5s 16ms/step - loss: 0.0615 - accuracy: 0.9774\n",
            "Epoch 53/100\n",
            "300/300 [==============================] - 5s 16ms/step - loss: 0.0556 - accuracy: 0.9797\n",
            "Epoch 54/100\n",
            "300/300 [==============================] - 5s 16ms/step - loss: 0.0535 - accuracy: 0.9799\n",
            "Epoch 55/100\n",
            "300/300 [==============================] - 6s 20ms/step - loss: 0.0615 - accuracy: 0.9775\n",
            "Epoch 56/100\n",
            "300/300 [==============================] - 6s 20ms/step - loss: 0.0565 - accuracy: 0.9794\n",
            "Epoch 57/100\n",
            "300/300 [==============================] - 5s 17ms/step - loss: 0.0522 - accuracy: 0.9816\n",
            "Epoch 58/100\n",
            "300/300 [==============================] - 5s 16ms/step - loss: 0.0493 - accuracy: 0.9823\n",
            "Epoch 59/100\n",
            "300/300 [==============================] - 5s 16ms/step - loss: 0.0488 - accuracy: 0.9825\n",
            "Epoch 60/100\n",
            "300/300 [==============================] - 5s 16ms/step - loss: 0.0475 - accuracy: 0.9826\n",
            "Epoch 61/100\n",
            "300/300 [==============================] - 5s 16ms/step - loss: 0.0535 - accuracy: 0.9810\n",
            "Epoch 62/100\n",
            "300/300 [==============================] - 5s 16ms/step - loss: 0.0472 - accuracy: 0.9832\n",
            "Epoch 63/100\n",
            "300/300 [==============================] - 5s 16ms/step - loss: 0.0495 - accuracy: 0.9822\n",
            "Epoch 64/100\n",
            "300/300 [==============================] - 5s 16ms/step - loss: 0.0478 - accuracy: 0.9830\n",
            "Epoch 65/100\n",
            "300/300 [==============================] - 5s 16ms/step - loss: 0.0446 - accuracy: 0.9836\n",
            "Epoch 66/100\n",
            "300/300 [==============================] - 5s 18ms/step - loss: 0.0442 - accuracy: 0.9833\n",
            "Epoch 67/100\n",
            "300/300 [==============================] - 5s 18ms/step - loss: 0.0414 - accuracy: 0.9850\n",
            "Epoch 68/100\n",
            "300/300 [==============================] - 5s 16ms/step - loss: 0.0391 - accuracy: 0.9862\n",
            "Epoch 69/100\n",
            "300/300 [==============================] - 5s 16ms/step - loss: 0.0460 - accuracy: 0.9828\n",
            "Epoch 70/100\n",
            "300/300 [==============================] - 5s 16ms/step - loss: 0.0420 - accuracy: 0.9845\n",
            "Epoch 71/100\n",
            "300/300 [==============================] - 5s 16ms/step - loss: 0.0342 - accuracy: 0.9878\n",
            "Epoch 72/100\n",
            "300/300 [==============================] - 5s 16ms/step - loss: 0.0435 - accuracy: 0.9845\n",
            "Epoch 73/100\n",
            "300/300 [==============================] - 5s 16ms/step - loss: 0.0352 - accuracy: 0.9877\n",
            "Epoch 74/100\n",
            "300/300 [==============================] - 5s 16ms/step - loss: 0.0389 - accuracy: 0.9854\n",
            "Epoch 75/100\n",
            "300/300 [==============================] - 5s 16ms/step - loss: 0.0335 - accuracy: 0.9877\n",
            "Epoch 76/100\n",
            "300/300 [==============================] - 5s 16ms/step - loss: 0.0333 - accuracy: 0.9878\n",
            "Epoch 77/100\n",
            "300/300 [==============================] - 5s 16ms/step - loss: 0.0379 - accuracy: 0.9863\n",
            "Epoch 78/100\n",
            "300/300 [==============================] - 6s 20ms/step - loss: 0.0305 - accuracy: 0.9893\n",
            "Epoch 79/100\n",
            "300/300 [==============================] - 5s 16ms/step - loss: 0.0429 - accuracy: 0.9847\n",
            "Epoch 80/100\n",
            "300/300 [==============================] - 5s 16ms/step - loss: 0.0321 - accuracy: 0.9884\n",
            "Epoch 81/100\n",
            "300/300 [==============================] - 5s 16ms/step - loss: 0.0300 - accuracy: 0.9891\n",
            "Epoch 82/100\n",
            "300/300 [==============================] - 5s 16ms/step - loss: 0.0320 - accuracy: 0.9882\n",
            "Epoch 83/100\n",
            "300/300 [==============================] - 5s 16ms/step - loss: 0.0299 - accuracy: 0.9897\n",
            "Epoch 84/100\n",
            "300/300 [==============================] - 5s 16ms/step - loss: 0.0319 - accuracy: 0.9888\n",
            "Epoch 85/100\n",
            "300/300 [==============================] - 5s 15ms/step - loss: 0.0331 - accuracy: 0.9880\n",
            "Epoch 86/100\n",
            "300/300 [==============================] - 5s 16ms/step - loss: 0.0339 - accuracy: 0.9880\n",
            "Epoch 87/100\n",
            "300/300 [==============================] - 5s 16ms/step - loss: 0.0388 - accuracy: 0.9862\n",
            "Epoch 88/100\n",
            "300/300 [==============================] - 5s 16ms/step - loss: 0.0258 - accuracy: 0.9908\n",
            "Epoch 89/100\n",
            "300/300 [==============================] - 6s 20ms/step - loss: 0.0238 - accuracy: 0.9922\n",
            "Epoch 90/100\n",
            "300/300 [==============================] - 5s 16ms/step - loss: 0.0284 - accuracy: 0.9896\n",
            "Epoch 91/100\n",
            "300/300 [==============================] - 5s 16ms/step - loss: 0.0251 - accuracy: 0.9912\n",
            "Epoch 92/100\n",
            "300/300 [==============================] - 5s 16ms/step - loss: 0.0320 - accuracy: 0.9887\n",
            "Epoch 93/100\n",
            "300/300 [==============================] - 5s 16ms/step - loss: 0.0310 - accuracy: 0.9890\n",
            "Epoch 94/100\n",
            "300/300 [==============================] - 5s 16ms/step - loss: 0.0251 - accuracy: 0.9910\n",
            "Epoch 95/100\n",
            "300/300 [==============================] - 5s 16ms/step - loss: 0.0254 - accuracy: 0.9908\n",
            "Epoch 96/100\n",
            "300/300 [==============================] - 5s 16ms/step - loss: 0.0241 - accuracy: 0.9915\n",
            "Epoch 97/100\n",
            "300/300 [==============================] - 5s 16ms/step - loss: 0.0271 - accuracy: 0.9901\n",
            "Epoch 98/100\n",
            "300/300 [==============================] - 6s 20ms/step - loss: 0.0240 - accuracy: 0.9911\n",
            "Epoch 99/100\n",
            "300/300 [==============================] - 6s 20ms/step - loss: 0.0288 - accuracy: 0.9891\n",
            "Epoch 100/100\n",
            "300/300 [==============================] - 5s 16ms/step - loss: 0.0287 - accuracy: 0.9898\n"
          ]
        },
        {
          "output_type": "execute_result",
          "data": {
            "text/plain": [
              "<keras.callbacks.History at 0x7fd0294f31d0>"
            ]
          },
          "metadata": {},
          "execution_count": 12
        }
      ]
    },
    {
      "cell_type": "code",
      "source": [
        "classes = ['футболка','брюки', 'свитер','платє','palto', 'tufli', 'rubashka', 'krosovki', 'sumka', 'botinki']"
      ],
      "metadata": {
        "id": "EwxPlQajJBf5"
      },
      "execution_count": null,
      "outputs": []
    },
    {
      "cell_type": "code",
      "source": [
        "predictions = model.predict(x_train)\n"
      ],
      "metadata": {
        "colab": {
          "base_uri": "https://localhost:8080/"
        },
        "id": "TLs4L0znJqnl",
        "outputId": "173e7053-d711-42de-a165-088884ac5fc0"
      },
      "execution_count": null,
      "outputs": [
        {
          "output_type": "stream",
          "name": "stdout",
          "text": [
            "1875/1875 [==============================] - 6s 3ms/step\n"
          ]
        }
      ]
    },
    {
      "cell_type": "code",
      "source": [
        "x=np.argmax(predictions[4023])\n",
        "y=np.argmax(y_train[4023])\n",
        "\n",
        "print(classes[x],\"|||\",classes[y])"
      ],
      "metadata": {
        "colab": {
          "base_uri": "https://localhost:8080/"
        },
        "id": "qjCPR79NNpg3",
        "outputId": "5e84abcf-85f8-4798-d8b5-984298052146"
      },
      "execution_count": null,
      "outputs": [
        {
          "output_type": "stream",
          "name": "stdout",
          "text": [
            "rubashka ||| rubashka\n"
          ]
        }
      ]
    },
    {
      "cell_type": "code",
      "source": [
        "score"
      ],
      "metadata": {
        "id": "N5Vd-gQq0TH6"
      },
      "execution_count": null,
      "outputs": []
    },
    {
      "cell_type": "code",
      "source": [],
      "metadata": {
        "id": "weP1pnD50S53"
      },
      "execution_count": null,
      "outputs": []
    },
    {
      "cell_type": "code",
      "source": [],
      "metadata": {
        "id": "1yr6VHG30S2-"
      },
      "execution_count": null,
      "outputs": []
    },
    {
      "cell_type": "code",
      "source": [],
      "metadata": {
        "id": "-ctpERab0SzX"
      },
      "execution_count": null,
      "outputs": []
    }
  ]
}